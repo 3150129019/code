{
 "cells": [
  {
   "cell_type": "code",
   "execution_count": 1,
   "metadata": {
    "collapsed": false
   },
   "outputs": [
    {
     "name": "stderr",
     "output_type": "stream",
     "text": [
      "Registering fonts with R\n"
     ]
    }
   ],
   "source": [
    "library(rpart)\n",
    "library(rpart.plot)\n",
    "library(extrafont)\n",
    "options(repr.plot.width=12, repr.plot.height=9)"
   ]
  },
  {
   "cell_type": "code",
   "execution_count": 2,
   "metadata": {
    "collapsed": true
   },
   "outputs": [],
   "source": [
    "ct <- rpart.control(xval=10, minsplit=1, cp=0.1)"
   ]
  },
  {
   "cell_type": "code",
   "execution_count": 18,
   "metadata": {
    "collapsed": false
   },
   "outputs": [],
   "source": [
    "table<-read.csv(\"GSE16011+GSE61374 标准化.csv\",header=TRUE,sep=\",\",quote=\"\\\"\");"
   ]
  },
  {
   "cell_type": "code",
   "execution_count": 7,
   "metadata": {
    "collapsed": false
   },
   "outputs": [
    {
     "data": {
      "text/html": [
       "<table>\n",
       "<thead><tr><th scope=col>Sample_geo_accession</th><th scope=col>gender</th><th scope=col>Revieweddiagnosis</th><th scope=col>histological</th><th scope=col>diagno.Ag.at.sis</th><th scope=col>event</th><th scope=col>X1p.19q.codel</th><th scope=col>IDH1</th><th scope=col>survival</th><th scope=col>Chemotherapy</th><th scope=col>Radiotherapy</th></tr></thead>\n",
       "<tbody>\n",
       "\t<tr><td>GSM405200</td><td>NA       </td><td>0        </td><td>NA       </td><td>NA       </td><td>NA       </td><td>NA       </td><td>NA       </td><td>    NA   </td><td>NA       </td><td>NA       </td></tr>\n",
       "\t<tr><td>GSM405201</td><td> 0       </td><td>OD       </td><td> 3       </td><td>45       </td><td> 0       </td><td> 1       </td><td> 1       </td><td>117.84   </td><td> 0       </td><td> 1       </td></tr>\n",
       "\t<tr><td>GSM405202</td><td> 1       </td><td>OD       </td><td> 3       </td><td>29       </td><td> 0       </td><td> 1       </td><td> 1       </td><td>140.04   </td><td> 0       </td><td> 1       </td></tr>\n",
       "\t<tr><td>GSM405203</td><td> 1       </td><td>OD       </td><td> 3       </td><td>39       </td><td> 0       </td><td> 1       </td><td> 0       </td><td>107.04   </td><td> 0       </td><td> 1       </td></tr>\n",
       "\t<tr><td>GSM405204</td><td> 1       </td><td>OD       </td><td> 3       </td><td>34       </td><td> 0       </td><td> 1       </td><td> 0       </td><td>103.08   </td><td>NA       </td><td>NA       </td></tr>\n",
       "\t<tr><td>GSM405205</td><td> 1       </td><td>OD       </td><td> 3       </td><td>48       </td><td> 0       </td><td> 1       </td><td> 1       </td><td> 38.88   </td><td> 1       </td><td> 1       </td></tr>\n",
       "\t<tr><td>GSM405206</td><td> 1       </td><td>OD       </td><td> 3       </td><td>32       </td><td> 0       </td><td> 1       </td><td> 0       </td><td> 81.72   </td><td> 0       </td><td> 1       </td></tr>\n",
       "\t<tr><td>GSM405207</td><td> 0       </td><td>OD       </td><td> 3       </td><td>44       </td><td> 0       </td><td> 1       </td><td> 0       </td><td> 97.44   </td><td> 0       </td><td> 1       </td></tr>\n",
       "\t<tr><td>GSM405208</td><td> 1       </td><td>OD       </td><td> 3       </td><td>51       </td><td> 0       </td><td> 1       </td><td> 1       </td><td> 36.48   </td><td> 1       </td><td> 1       </td></tr>\n",
       "\t<tr><td>GSM405209</td><td>NA       </td><td>0        </td><td>NA       </td><td>NA       </td><td>NA       </td><td> 0       </td><td>NA       </td><td>    NA   </td><td>NA       </td><td>NA       </td></tr>\n",
       "\t<tr><td>GSM405210</td><td> 1       </td><td>OD       </td><td> 3       </td><td>39       </td><td> 0       </td><td> 1       </td><td> 1       </td><td>123.36   </td><td> 0       </td><td> 1       </td></tr>\n",
       "\t<tr><td>GSM405211</td><td> 1       </td><td>OD       </td><td> 3       </td><td>35       </td><td> 0       </td><td> 1       </td><td> 1       </td><td> 21.96   </td><td> 0       </td><td> 1       </td></tr>\n",
       "\t<tr><td>GSM405212</td><td> 1       </td><td>OD       </td><td> 3       </td><td>23       </td><td> 0       </td><td> 1       </td><td> 0       </td><td>209.88   </td><td>NA       </td><td> 1       </td></tr>\n",
       "\t<tr><td>GSM405213</td><td> 1       </td><td>GBM      </td><td> 4       </td><td>44       </td><td> 0       </td><td> 0       </td><td> 0       </td><td> 16.08   </td><td> 0       </td><td> 1       </td></tr>\n",
       "\t<tr><td>GSM405214</td><td> 1       </td><td>GBM      </td><td> 4       </td><td>38       </td><td> 0       </td><td> 0       </td><td> 0       </td><td> 18.00   </td><td> 1       </td><td> 1       </td></tr>\n",
       "\t<tr><td>GSM405215</td><td> 1       </td><td>GBM      </td><td> 4       </td><td>51       </td><td> 0       </td><td> 0       </td><td> 0       </td><td> 27.60   </td><td> 0       </td><td> 1       </td></tr>\n",
       "\t<tr><td>GSM405216</td><td> 1       </td><td>GBM      </td><td> 4       </td><td>52       </td><td> 0       </td><td> 0       </td><td> 0       </td><td> 39.36   </td><td> 0       </td><td> 1       </td></tr>\n",
       "\t<tr><td>GSM405217</td><td> 1       </td><td>GBM      </td><td> 4       </td><td>33       </td><td> 1       </td><td> 0       </td><td> 1       </td><td> 81.24   </td><td> 1       </td><td> 1       </td></tr>\n",
       "\t<tr><td>GSM405218</td><td> 1       </td><td>GBM      </td><td> 4       </td><td>32       </td><td> 0       </td><td> 0       </td><td> 0       </td><td>  7.68   </td><td> 1       </td><td> 1       </td></tr>\n",
       "\t<tr><td>GSM405219</td><td> 1       </td><td>GBM      </td><td> 4       </td><td>57       </td><td> 0       </td><td> 0       </td><td>NA       </td><td>  6.96   </td><td> 1       </td><td> 1       </td></tr>\n",
       "\t<tr><td>GSM405220</td><td> 1       </td><td>GBM      </td><td> 4       </td><td>54       </td><td> 0       </td><td>NA       </td><td> 0       </td><td> 15.24   </td><td> 1       </td><td> 1       </td></tr>\n",
       "\t<tr><td>GSM405221</td><td> 1       </td><td>GBM      </td><td> 4       </td><td>56       </td><td> 0       </td><td>NA       </td><td>NA       </td><td>  8.28   </td><td> 0       </td><td> 1       </td></tr>\n",
       "\t<tr><td>GSM405222</td><td> 1       </td><td>GBM      </td><td> 4       </td><td>54       </td><td> 0       </td><td>NA       </td><td>NA       </td><td> 15.60   </td><td> 0       </td><td> 1       </td></tr>\n",
       "\t<tr><td>GSM405223</td><td> 0       </td><td>GBM      </td><td> 4       </td><td>53       </td><td> 0       </td><td>NA       </td><td> 0       </td><td> 23.04   </td><td> 0       </td><td> 1       </td></tr>\n",
       "\t<tr><td>GSM405224</td><td> 1       </td><td>GBM      </td><td> 4       </td><td>48       </td><td> 0       </td><td>NA       </td><td> 0       </td><td>  5.76   </td><td> 0       </td><td> 1       </td></tr>\n",
       "\t<tr><td>GSM405225</td><td> 1       </td><td>OA       </td><td> 3       </td><td>32       </td><td> 0       </td><td> 0       </td><td>NA       </td><td> 41.64   </td><td> 1       </td><td> 1       </td></tr>\n",
       "\t<tr><td>GSM405226</td><td> 0       </td><td>OA       </td><td> 3       </td><td>49       </td><td> 0       </td><td> 0       </td><td>NA       </td><td>  3.36   </td><td> 0       </td><td> 1       </td></tr>\n",
       "\t<tr><td>GSM405227</td><td> 0       </td><td>OD       </td><td> 3       </td><td>48       </td><td> 0       </td><td>NA       </td><td>NA       </td><td> 57.24   </td><td> 1       </td><td> 1       </td></tr>\n",
       "\t<tr><td>GSM405228</td><td> 1       </td><td>GBM      </td><td> 4       </td><td>46       </td><td> 0       </td><td>NA       </td><td> 0       </td><td>  8.52   </td><td> 0       </td><td> 1       </td></tr>\n",
       "\t<tr><td>GSM405229</td><td> 0       </td><td>GBM      </td><td> 4       </td><td>54       </td><td> 0       </td><td> 0       </td><td> 0       </td><td>  7.92   </td><td> 0       </td><td> 1       </td></tr>\n",
       "\t<tr><td>⋮</td><td>⋮</td><td>⋮</td><td>⋮</td><td>⋮</td><td>⋮</td><td>⋮</td><td>⋮</td><td>⋮</td><td>⋮</td><td>⋮</td></tr>\n",
       "\t<tr><td>GSM1503403</td><td>1         </td><td>OA        </td><td>3         </td><td>38        </td><td>1         </td><td> 1        </td><td>1         </td><td> 61.2     </td><td>NA        </td><td> 0        </td></tr>\n",
       "\t<tr><td>GSM1503404</td><td>0         </td><td>OA        </td><td>3         </td><td>49        </td><td>1         </td><td> 1        </td><td>1         </td><td> 52.8     </td><td>NA        </td><td> 0        </td></tr>\n",
       "\t<tr><td>GSM1503405</td><td>0         </td><td>OA        </td><td>3         </td><td>68        </td><td>0         </td><td> 1        </td><td>1         </td><td> 52.8     </td><td>NA        </td><td> 0        </td></tr>\n",
       "\t<tr><td>GSM1503406</td><td>1         </td><td>OA        </td><td>3         </td><td>68        </td><td>0         </td><td> 0        </td><td>1         </td><td> 27.6     </td><td>NA        </td><td> 0        </td></tr>\n",
       "\t<tr><td>GSM1503407</td><td>0         </td><td>OA        </td><td>3         </td><td>41        </td><td>1         </td><td> 0        </td><td>1         </td><td> 14.4     </td><td>NA        </td><td> 0        </td></tr>\n",
       "\t<tr><td>GSM1503408</td><td>1         </td><td>OA        </td><td>3         </td><td>46        </td><td>1         </td><td> 1        </td><td>1         </td><td> 76.8     </td><td>NA        </td><td> 0        </td></tr>\n",
       "\t<tr><td>GSM1503409</td><td>0         </td><td>OA        </td><td>3         </td><td>45        </td><td>1         </td><td> 0        </td><td>1         </td><td> 70.8     </td><td>NA        </td><td> 0        </td></tr>\n",
       "\t<tr><td>GSM1503410</td><td>1         </td><td>OA        </td><td>3         </td><td>27        </td><td>1         </td><td> 1        </td><td>1         </td><td> 81.6     </td><td>NA        </td><td> 0        </td></tr>\n",
       "\t<tr><td>GSM1503411</td><td>1         </td><td>OA        </td><td>3         </td><td>60        </td><td>0         </td><td> 1        </td><td>1         </td><td> 44.4     </td><td>NA        </td><td> 0        </td></tr>\n",
       "\t<tr><td>GSM1503412</td><td>1         </td><td>OA        </td><td>3         </td><td>34        </td><td>0         </td><td> 1        </td><td>1         </td><td> 43.2     </td><td>NA        </td><td> 0        </td></tr>\n",
       "\t<tr><td>GSM1503413</td><td>1         </td><td>OA        </td><td>3         </td><td>54        </td><td>0         </td><td> 1        </td><td>1         </td><td>  1.2     </td><td>NA        </td><td> 0        </td></tr>\n",
       "\t<tr><td>GSM1503414</td><td>1         </td><td>OA        </td><td>3         </td><td>51        </td><td>0         </td><td> 1        </td><td>1         </td><td> 48.0     </td><td>NA        </td><td> 0        </td></tr>\n",
       "\t<tr><td>GSM1503415</td><td>0         </td><td>OA        </td><td>3         </td><td>51        </td><td>0         </td><td> 1        </td><td>1         </td><td> 52.8     </td><td>NA        </td><td> 0        </td></tr>\n",
       "\t<tr><td>GSM1503416</td><td>0         </td><td>OA        </td><td>3         </td><td>63        </td><td>1         </td><td> 0        </td><td>1         </td><td> 55.2     </td><td>NA        </td><td> 0        </td></tr>\n",
       "\t<tr><td>GSM1503417</td><td>1         </td><td>OD        </td><td>2         </td><td>36        </td><td>1         </td><td> 0        </td><td>1         </td><td>109.2     </td><td>NA        </td><td> 0        </td></tr>\n",
       "\t<tr><td>GSM1503418</td><td>0         </td><td>OD        </td><td>2         </td><td>39        </td><td>1         </td><td> 1        </td><td>1         </td><td> 69.6     </td><td>NA        </td><td> 0        </td></tr>\n",
       "\t<tr><td>GSM1503419</td><td>1         </td><td>OD        </td><td>2         </td><td>49        </td><td>1         </td><td> 1        </td><td>1         </td><td> 37.2     </td><td>NA        </td><td> 0        </td></tr>\n",
       "\t<tr><td>GSM1503383</td><td>0         </td><td>OD        </td><td>3         </td><td>47        </td><td>1         </td><td> 1        </td><td>1         </td><td> 88.8     </td><td>NA        </td><td> 0        </td></tr>\n",
       "\t<tr><td>GSM1503421</td><td>1         </td><td>OA        </td><td>2         </td><td>24        </td><td>1         </td><td> 0        </td><td>1         </td><td> 79.2     </td><td>NA        </td><td> 0        </td></tr>\n",
       "\t<tr><td>GSM1503422</td><td>1         </td><td>OA        </td><td>2         </td><td>59        </td><td>1         </td><td> 0        </td><td>1         </td><td> 52.8     </td><td>NA        </td><td> 0        </td></tr>\n",
       "\t<tr><td>GSM1503423</td><td>1         </td><td>OA        </td><td>2         </td><td>33        </td><td>1         </td><td> 0        </td><td>1         </td><td> 12.0     </td><td>NA        </td><td> 0        </td></tr>\n",
       "\t<tr><td>GSM1503424</td><td>1         </td><td>OA        </td><td>2         </td><td>59        </td><td>1         </td><td> 1        </td><td>1         </td><td> 90.0     </td><td>NA        </td><td> 0        </td></tr>\n",
       "\t<tr><td>GSM1503425</td><td>0         </td><td>OA        </td><td>2         </td><td>40        </td><td>1         </td><td> 0        </td><td>1         </td><td> 46.8     </td><td>NA        </td><td> 0        </td></tr>\n",
       "\t<tr><td>GSM1503426</td><td>0         </td><td>OA        </td><td>2         </td><td>39        </td><td>1         </td><td> 0        </td><td>0         </td><td> 97.2     </td><td>NA        </td><td> 0        </td></tr>\n",
       "\t<tr><td>GSM1503427</td><td>0         </td><td>OA        </td><td>2         </td><td>44        </td><td>0         </td><td> 1        </td><td>1         </td><td> 73.2     </td><td>NA        </td><td> 0        </td></tr>\n",
       "\t<tr><td>GSM1503428</td><td>1         </td><td>OA        </td><td>2         </td><td>56        </td><td>1         </td><td>NA        </td><td>1         </td><td> 90.0     </td><td>NA        </td><td> 0        </td></tr>\n",
       "\t<tr><td>GSM1503429</td><td>0         </td><td>OA        </td><td>2         </td><td>43        </td><td>1         </td><td>NA        </td><td>1         </td><td> 61.2     </td><td>NA        </td><td>NA        </td></tr>\n",
       "\t<tr><td>GSM1503430</td><td>1         </td><td>OA        </td><td>2         </td><td>30        </td><td>0         </td><td>NA        </td><td>1         </td><td> 38.4     </td><td>NA        </td><td>NA        </td></tr>\n",
       "\t<tr><td>GSM1503431</td><td>0         </td><td>OA        </td><td>2         </td><td>30        </td><td>1         </td><td>NA        </td><td>1         </td><td> 85.2     </td><td>NA        </td><td>NA        </td></tr>\n",
       "\t<tr><td>GSM1503432</td><td>1         </td><td>OA        </td><td>2         </td><td>41        </td><td>1         </td><td>NA        </td><td>1         </td><td> 74.4     </td><td>NA        </td><td>NA        </td></tr>\n",
       "</tbody>\n",
       "</table>\n"
      ],
      "text/latex": [
       "\\begin{tabular}{r|lllllllllll}\n",
       " Sample\\_geo\\_accession & gender & Revieweddiagnosis & histological & diagno.Ag.at.sis & event & X1p.19q.codel & IDH1 & survival & Chemotherapy & Radiotherapy\\\\\n",
       "\\hline\n",
       "\t GSM405200 & NA        & 0         & NA        & NA        & NA        & NA        & NA        &     NA    & NA        & NA       \\\\\n",
       "\t GSM405201 &  0        & OD        &  3        & 45        &  0        &  1        &  1        & 117.84    &  0        &  1       \\\\\n",
       "\t GSM405202 &  1        & OD        &  3        & 29        &  0        &  1        &  1        & 140.04    &  0        &  1       \\\\\n",
       "\t GSM405203 &  1        & OD        &  3        & 39        &  0        &  1        &  0        & 107.04    &  0        &  1       \\\\\n",
       "\t GSM405204 &  1        & OD        &  3        & 34        &  0        &  1        &  0        & 103.08    & NA        & NA       \\\\\n",
       "\t GSM405205 &  1        & OD        &  3        & 48        &  0        &  1        &  1        &  38.88    &  1        &  1       \\\\\n",
       "\t GSM405206 &  1        & OD        &  3        & 32        &  0        &  1        &  0        &  81.72    &  0        &  1       \\\\\n",
       "\t GSM405207 &  0        & OD        &  3        & 44        &  0        &  1        &  0        &  97.44    &  0        &  1       \\\\\n",
       "\t GSM405208 &  1        & OD        &  3        & 51        &  0        &  1        &  1        &  36.48    &  1        &  1       \\\\\n",
       "\t GSM405209 & NA        & 0         & NA        & NA        & NA        &  0        & NA        &     NA    & NA        & NA       \\\\\n",
       "\t GSM405210 &  1        & OD        &  3        & 39        &  0        &  1        &  1        & 123.36    &  0        &  1       \\\\\n",
       "\t GSM405211 &  1        & OD        &  3        & 35        &  0        &  1        &  1        &  21.96    &  0        &  1       \\\\\n",
       "\t GSM405212 &  1        & OD        &  3        & 23        &  0        &  1        &  0        & 209.88    & NA        &  1       \\\\\n",
       "\t GSM405213 &  1        & GBM       &  4        & 44        &  0        &  0        &  0        &  16.08    &  0        &  1       \\\\\n",
       "\t GSM405214 &  1        & GBM       &  4        & 38        &  0        &  0        &  0        &  18.00    &  1        &  1       \\\\\n",
       "\t GSM405215 &  1        & GBM       &  4        & 51        &  0        &  0        &  0        &  27.60    &  0        &  1       \\\\\n",
       "\t GSM405216 &  1        & GBM       &  4        & 52        &  0        &  0        &  0        &  39.36    &  0        &  1       \\\\\n",
       "\t GSM405217 &  1        & GBM       &  4        & 33        &  1        &  0        &  1        &  81.24    &  1        &  1       \\\\\n",
       "\t GSM405218 &  1        & GBM       &  4        & 32        &  0        &  0        &  0        &   7.68    &  1        &  1       \\\\\n",
       "\t GSM405219 &  1        & GBM       &  4        & 57        &  0        &  0        & NA        &   6.96    &  1        &  1       \\\\\n",
       "\t GSM405220 &  1        & GBM       &  4        & 54        &  0        & NA        &  0        &  15.24    &  1        &  1       \\\\\n",
       "\t GSM405221 &  1        & GBM       &  4        & 56        &  0        & NA        & NA        &   8.28    &  0        &  1       \\\\\n",
       "\t GSM405222 &  1        & GBM       &  4        & 54        &  0        & NA        & NA        &  15.60    &  0        &  1       \\\\\n",
       "\t GSM405223 &  0        & GBM       &  4        & 53        &  0        & NA        &  0        &  23.04    &  0        &  1       \\\\\n",
       "\t GSM405224 &  1        & GBM       &  4        & 48        &  0        & NA        &  0        &   5.76    &  0        &  1       \\\\\n",
       "\t GSM405225 &  1        & OA        &  3        & 32        &  0        &  0        & NA        &  41.64    &  1        &  1       \\\\\n",
       "\t GSM405226 &  0        & OA        &  3        & 49        &  0        &  0        & NA        &   3.36    &  0        &  1       \\\\\n",
       "\t GSM405227 &  0        & OD        &  3        & 48        &  0        & NA        & NA        &  57.24    &  1        &  1       \\\\\n",
       "\t GSM405228 &  1        & GBM       &  4        & 46        &  0        & NA        &  0        &   8.52    &  0        &  1       \\\\\n",
       "\t GSM405229 &  0        & GBM       &  4        & 54        &  0        &  0        &  0        &   7.92    &  0        &  1       \\\\\n",
       "\t ⋮ & ⋮ & ⋮ & ⋮ & ⋮ & ⋮ & ⋮ & ⋮ & ⋮ & ⋮ & ⋮\\\\\n",
       "\t GSM1503403 & 1          & OA         & 3          & 38         & 1          &  1         & 1          &  61.2      & NA         &  0        \\\\\n",
       "\t GSM1503404 & 0          & OA         & 3          & 49         & 1          &  1         & 1          &  52.8      & NA         &  0        \\\\\n",
       "\t GSM1503405 & 0          & OA         & 3          & 68         & 0          &  1         & 1          &  52.8      & NA         &  0        \\\\\n",
       "\t GSM1503406 & 1          & OA         & 3          & 68         & 0          &  0         & 1          &  27.6      & NA         &  0        \\\\\n",
       "\t GSM1503407 & 0          & OA         & 3          & 41         & 1          &  0         & 1          &  14.4      & NA         &  0        \\\\\n",
       "\t GSM1503408 & 1          & OA         & 3          & 46         & 1          &  1         & 1          &  76.8      & NA         &  0        \\\\\n",
       "\t GSM1503409 & 0          & OA         & 3          & 45         & 1          &  0         & 1          &  70.8      & NA         &  0        \\\\\n",
       "\t GSM1503410 & 1          & OA         & 3          & 27         & 1          &  1         & 1          &  81.6      & NA         &  0        \\\\\n",
       "\t GSM1503411 & 1          & OA         & 3          & 60         & 0          &  1         & 1          &  44.4      & NA         &  0        \\\\\n",
       "\t GSM1503412 & 1          & OA         & 3          & 34         & 0          &  1         & 1          &  43.2      & NA         &  0        \\\\\n",
       "\t GSM1503413 & 1          & OA         & 3          & 54         & 0          &  1         & 1          &   1.2      & NA         &  0        \\\\\n",
       "\t GSM1503414 & 1          & OA         & 3          & 51         & 0          &  1         & 1          &  48.0      & NA         &  0        \\\\\n",
       "\t GSM1503415 & 0          & OA         & 3          & 51         & 0          &  1         & 1          &  52.8      & NA         &  0        \\\\\n",
       "\t GSM1503416 & 0          & OA         & 3          & 63         & 1          &  0         & 1          &  55.2      & NA         &  0        \\\\\n",
       "\t GSM1503417 & 1          & OD         & 2          & 36         & 1          &  0         & 1          & 109.2      & NA         &  0        \\\\\n",
       "\t GSM1503418 & 0          & OD         & 2          & 39         & 1          &  1         & 1          &  69.6      & NA         &  0        \\\\\n",
       "\t GSM1503419 & 1          & OD         & 2          & 49         & 1          &  1         & 1          &  37.2      & NA         &  0        \\\\\n",
       "\t GSM1503383 & 0          & OD         & 3          & 47         & 1          &  1         & 1          &  88.8      & NA         &  0        \\\\\n",
       "\t GSM1503421 & 1          & OA         & 2          & 24         & 1          &  0         & 1          &  79.2      & NA         &  0        \\\\\n",
       "\t GSM1503422 & 1          & OA         & 2          & 59         & 1          &  0         & 1          &  52.8      & NA         &  0        \\\\\n",
       "\t GSM1503423 & 1          & OA         & 2          & 33         & 1          &  0         & 1          &  12.0      & NA         &  0        \\\\\n",
       "\t GSM1503424 & 1          & OA         & 2          & 59         & 1          &  1         & 1          &  90.0      & NA         &  0        \\\\\n",
       "\t GSM1503425 & 0          & OA         & 2          & 40         & 1          &  0         & 1          &  46.8      & NA         &  0        \\\\\n",
       "\t GSM1503426 & 0          & OA         & 2          & 39         & 1          &  0         & 0          &  97.2      & NA         &  0        \\\\\n",
       "\t GSM1503427 & 0          & OA         & 2          & 44         & 0          &  1         & 1          &  73.2      & NA         &  0        \\\\\n",
       "\t GSM1503428 & 1          & OA         & 2          & 56         & 1          & NA         & 1          &  90.0      & NA         &  0        \\\\\n",
       "\t GSM1503429 & 0          & OA         & 2          & 43         & 1          & NA         & 1          &  61.2      & NA         & NA        \\\\\n",
       "\t GSM1503430 & 1          & OA         & 2          & 30         & 0          & NA         & 1          &  38.4      & NA         & NA        \\\\\n",
       "\t GSM1503431 & 0          & OA         & 2          & 30         & 1          & NA         & 1          &  85.2      & NA         & NA        \\\\\n",
       "\t GSM1503432 & 1          & OA         & 2          & 41         & 1          & NA         & 1          &  74.4      & NA         & NA        \\\\\n",
       "\\end{tabular}\n"
      ],
      "text/markdown": [
       "\n",
       "Sample_geo_accession | gender | Revieweddiagnosis | histological | diagno.Ag.at.sis | event | X1p.19q.codel | IDH1 | survival | Chemotherapy | Radiotherapy | \n",
       "|---|---|---|---|---|---|---|---|---|---|---|---|---|---|---|---|---|---|---|---|---|---|---|---|---|---|---|---|---|---|---|---|---|---|---|---|---|---|---|---|---|---|---|---|---|---|---|---|---|---|---|---|---|---|---|---|---|---|---|---|---|\n",
       "| GSM405200 | NA        | 0         | NA        | NA        | NA        | NA        | NA        |     NA    | NA        | NA        | \n",
       "| GSM405201 |  0        | OD        |  3        | 45        |  0        |  1        |  1        | 117.84    |  0        |  1        | \n",
       "| GSM405202 |  1        | OD        |  3        | 29        |  0        |  1        |  1        | 140.04    |  0        |  1        | \n",
       "| GSM405203 |  1        | OD        |  3        | 39        |  0        |  1        |  0        | 107.04    |  0        |  1        | \n",
       "| GSM405204 |  1        | OD        |  3        | 34        |  0        |  1        |  0        | 103.08    | NA        | NA        | \n",
       "| GSM405205 |  1        | OD        |  3        | 48        |  0        |  1        |  1        |  38.88    |  1        |  1        | \n",
       "| GSM405206 |  1        | OD        |  3        | 32        |  0        |  1        |  0        |  81.72    |  0        |  1        | \n",
       "| GSM405207 |  0        | OD        |  3        | 44        |  0        |  1        |  0        |  97.44    |  0        |  1        | \n",
       "| GSM405208 |  1        | OD        |  3        | 51        |  0        |  1        |  1        |  36.48    |  1        |  1        | \n",
       "| GSM405209 | NA        | 0         | NA        | NA        | NA        |  0        | NA        |     NA    | NA        | NA        | \n",
       "| GSM405210 |  1        | OD        |  3        | 39        |  0        |  1        |  1        | 123.36    |  0        |  1        | \n",
       "| GSM405211 |  1        | OD        |  3        | 35        |  0        |  1        |  1        |  21.96    |  0        |  1        | \n",
       "| GSM405212 |  1        | OD        |  3        | 23        |  0        |  1        |  0        | 209.88    | NA        |  1        | \n",
       "| GSM405213 |  1        | GBM       |  4        | 44        |  0        |  0        |  0        |  16.08    |  0        |  1        | \n",
       "| GSM405214 |  1        | GBM       |  4        | 38        |  0        |  0        |  0        |  18.00    |  1        |  1        | \n",
       "| GSM405215 |  1        | GBM       |  4        | 51        |  0        |  0        |  0        |  27.60    |  0        |  1        | \n",
       "| GSM405216 |  1        | GBM       |  4        | 52        |  0        |  0        |  0        |  39.36    |  0        |  1        | \n",
       "| GSM405217 |  1        | GBM       |  4        | 33        |  1        |  0        |  1        |  81.24    |  1        |  1        | \n",
       "| GSM405218 |  1        | GBM       |  4        | 32        |  0        |  0        |  0        |   7.68    |  1        |  1        | \n",
       "| GSM405219 |  1        | GBM       |  4        | 57        |  0        |  0        | NA        |   6.96    |  1        |  1        | \n",
       "| GSM405220 |  1        | GBM       |  4        | 54        |  0        | NA        |  0        |  15.24    |  1        |  1        | \n",
       "| GSM405221 |  1        | GBM       |  4        | 56        |  0        | NA        | NA        |   8.28    |  0        |  1        | \n",
       "| GSM405222 |  1        | GBM       |  4        | 54        |  0        | NA        | NA        |  15.60    |  0        |  1        | \n",
       "| GSM405223 |  0        | GBM       |  4        | 53        |  0        | NA        |  0        |  23.04    |  0        |  1        | \n",
       "| GSM405224 |  1        | GBM       |  4        | 48        |  0        | NA        |  0        |   5.76    |  0        |  1        | \n",
       "| GSM405225 |  1        | OA        |  3        | 32        |  0        |  0        | NA        |  41.64    |  1        |  1        | \n",
       "| GSM405226 |  0        | OA        |  3        | 49        |  0        |  0        | NA        |   3.36    |  0        |  1        | \n",
       "| GSM405227 |  0        | OD        |  3        | 48        |  0        | NA        | NA        |  57.24    |  1        |  1        | \n",
       "| GSM405228 |  1        | GBM       |  4        | 46        |  0        | NA        |  0        |   8.52    |  0        |  1        | \n",
       "| GSM405229 |  0        | GBM       |  4        | 54        |  0        |  0        |  0        |   7.92    |  0        |  1        | \n",
       "| ⋮ | ⋮ | ⋮ | ⋮ | ⋮ | ⋮ | ⋮ | ⋮ | ⋮ | ⋮ | ⋮ | \n",
       "| GSM1503403 | 1          | OA         | 3          | 38         | 1          |  1         | 1          |  61.2      | NA         |  0         | \n",
       "| GSM1503404 | 0          | OA         | 3          | 49         | 1          |  1         | 1          |  52.8      | NA         |  0         | \n",
       "| GSM1503405 | 0          | OA         | 3          | 68         | 0          |  1         | 1          |  52.8      | NA         |  0         | \n",
       "| GSM1503406 | 1          | OA         | 3          | 68         | 0          |  0         | 1          |  27.6      | NA         |  0         | \n",
       "| GSM1503407 | 0          | OA         | 3          | 41         | 1          |  0         | 1          |  14.4      | NA         |  0         | \n",
       "| GSM1503408 | 1          | OA         | 3          | 46         | 1          |  1         | 1          |  76.8      | NA         |  0         | \n",
       "| GSM1503409 | 0          | OA         | 3          | 45         | 1          |  0         | 1          |  70.8      | NA         |  0         | \n",
       "| GSM1503410 | 1          | OA         | 3          | 27         | 1          |  1         | 1          |  81.6      | NA         |  0         | \n",
       "| GSM1503411 | 1          | OA         | 3          | 60         | 0          |  1         | 1          |  44.4      | NA         |  0         | \n",
       "| GSM1503412 | 1          | OA         | 3          | 34         | 0          |  1         | 1          |  43.2      | NA         |  0         | \n",
       "| GSM1503413 | 1          | OA         | 3          | 54         | 0          |  1         | 1          |   1.2      | NA         |  0         | \n",
       "| GSM1503414 | 1          | OA         | 3          | 51         | 0          |  1         | 1          |  48.0      | NA         |  0         | \n",
       "| GSM1503415 | 0          | OA         | 3          | 51         | 0          |  1         | 1          |  52.8      | NA         |  0         | \n",
       "| GSM1503416 | 0          | OA         | 3          | 63         | 1          |  0         | 1          |  55.2      | NA         |  0         | \n",
       "| GSM1503417 | 1          | OD         | 2          | 36         | 1          |  0         | 1          | 109.2      | NA         |  0         | \n",
       "| GSM1503418 | 0          | OD         | 2          | 39         | 1          |  1         | 1          |  69.6      | NA         |  0         | \n",
       "| GSM1503419 | 1          | OD         | 2          | 49         | 1          |  1         | 1          |  37.2      | NA         |  0         | \n",
       "| GSM1503383 | 0          | OD         | 3          | 47         | 1          |  1         | 1          |  88.8      | NA         |  0         | \n",
       "| GSM1503421 | 1          | OA         | 2          | 24         | 1          |  0         | 1          |  79.2      | NA         |  0         | \n",
       "| GSM1503422 | 1          | OA         | 2          | 59         | 1          |  0         | 1          |  52.8      | NA         |  0         | \n",
       "| GSM1503423 | 1          | OA         | 2          | 33         | 1          |  0         | 1          |  12.0      | NA         |  0         | \n",
       "| GSM1503424 | 1          | OA         | 2          | 59         | 1          |  1         | 1          |  90.0      | NA         |  0         | \n",
       "| GSM1503425 | 0          | OA         | 2          | 40         | 1          |  0         | 1          |  46.8      | NA         |  0         | \n",
       "| GSM1503426 | 0          | OA         | 2          | 39         | 1          |  0         | 0          |  97.2      | NA         |  0         | \n",
       "| GSM1503427 | 0          | OA         | 2          | 44         | 0          |  1         | 1          |  73.2      | NA         |  0         | \n",
       "| GSM1503428 | 1          | OA         | 2          | 56         | 1          | NA         | 1          |  90.0      | NA         |  0         | \n",
       "| GSM1503429 | 0          | OA         | 2          | 43         | 1          | NA         | 1          |  61.2      | NA         | NA         | \n",
       "| GSM1503430 | 1          | OA         | 2          | 30         | 0          | NA         | 1          |  38.4      | NA         | NA         | \n",
       "| GSM1503431 | 0          | OA         | 2          | 30         | 1          | NA         | 1          |  85.2      | NA         | NA         | \n",
       "| GSM1503432 | 1          | OA         | 2          | 41         | 1          | NA         | 1          |  74.4      | NA         | NA         | \n",
       "\n",
       "\n"
      ],
      "text/plain": [
       "    Sample_geo_accession gender Revieweddiagnosis histological diagno.Ag.at.sis\n",
       "1   GSM405200            NA     0                 NA           NA              \n",
       "2   GSM405201             0     OD                 3           45              \n",
       "3   GSM405202             1     OD                 3           29              \n",
       "4   GSM405203             1     OD                 3           39              \n",
       "5   GSM405204             1     OD                 3           34              \n",
       "6   GSM405205             1     OD                 3           48              \n",
       "7   GSM405206             1     OD                 3           32              \n",
       "8   GSM405207             0     OD                 3           44              \n",
       "9   GSM405208             1     OD                 3           51              \n",
       "10  GSM405209            NA     0                 NA           NA              \n",
       "11  GSM405210             1     OD                 3           39              \n",
       "12  GSM405211             1     OD                 3           35              \n",
       "13  GSM405212             1     OD                 3           23              \n",
       "14  GSM405213             1     GBM                4           44              \n",
       "15  GSM405214             1     GBM                4           38              \n",
       "16  GSM405215             1     GBM                4           51              \n",
       "17  GSM405216             1     GBM                4           52              \n",
       "18  GSM405217             1     GBM                4           33              \n",
       "19  GSM405218             1     GBM                4           32              \n",
       "20  GSM405219             1     GBM                4           57              \n",
       "21  GSM405220             1     GBM                4           54              \n",
       "22  GSM405221             1     GBM                4           56              \n",
       "23  GSM405222             1     GBM                4           54              \n",
       "24  GSM405223             0     GBM                4           53              \n",
       "25  GSM405224             1     GBM                4           48              \n",
       "26  GSM405225             1     OA                 3           32              \n",
       "27  GSM405226             0     OA                 3           49              \n",
       "28  GSM405227             0     OD                 3           48              \n",
       "29  GSM405228             1     GBM                4           46              \n",
       "30  GSM405229             0     GBM                4           54              \n",
       "⋮   ⋮                    ⋮      ⋮                 ⋮            ⋮               \n",
       "392 GSM1503403           1      OA                3            38              \n",
       "393 GSM1503404           0      OA                3            49              \n",
       "394 GSM1503405           0      OA                3            68              \n",
       "395 GSM1503406           1      OA                3            68              \n",
       "396 GSM1503407           0      OA                3            41              \n",
       "397 GSM1503408           1      OA                3            46              \n",
       "398 GSM1503409           0      OA                3            45              \n",
       "399 GSM1503410           1      OA                3            27              \n",
       "400 GSM1503411           1      OA                3            60              \n",
       "401 GSM1503412           1      OA                3            34              \n",
       "402 GSM1503413           1      OA                3            54              \n",
       "403 GSM1503414           1      OA                3            51              \n",
       "404 GSM1503415           0      OA                3            51              \n",
       "405 GSM1503416           0      OA                3            63              \n",
       "406 GSM1503417           1      OD                2            36              \n",
       "407 GSM1503418           0      OD                2            39              \n",
       "408 GSM1503419           1      OD                2            49              \n",
       "409 GSM1503383           0      OD                3            47              \n",
       "410 GSM1503421           1      OA                2            24              \n",
       "411 GSM1503422           1      OA                2            59              \n",
       "412 GSM1503423           1      OA                2            33              \n",
       "413 GSM1503424           1      OA                2            59              \n",
       "414 GSM1503425           0      OA                2            40              \n",
       "415 GSM1503426           0      OA                2            39              \n",
       "416 GSM1503427           0      OA                2            44              \n",
       "417 GSM1503428           1      OA                2            56              \n",
       "418 GSM1503429           0      OA                2            43              \n",
       "419 GSM1503430           1      OA                2            30              \n",
       "420 GSM1503431           0      OA                2            30              \n",
       "421 GSM1503432           1      OA                2            41              \n",
       "    event X1p.19q.codel IDH1 survival Chemotherapy Radiotherapy\n",
       "1   NA    NA            NA       NA   NA           NA          \n",
       "2    0     1             1   117.84    0            1          \n",
       "3    0     1             1   140.04    0            1          \n",
       "4    0     1             0   107.04    0            1          \n",
       "5    0     1             0   103.08   NA           NA          \n",
       "6    0     1             1    38.88    1            1          \n",
       "7    0     1             0    81.72    0            1          \n",
       "8    0     1             0    97.44    0            1          \n",
       "9    0     1             1    36.48    1            1          \n",
       "10  NA     0            NA       NA   NA           NA          \n",
       "11   0     1             1   123.36    0            1          \n",
       "12   0     1             1    21.96    0            1          \n",
       "13   0     1             0   209.88   NA            1          \n",
       "14   0     0             0    16.08    0            1          \n",
       "15   0     0             0    18.00    1            1          \n",
       "16   0     0             0    27.60    0            1          \n",
       "17   0     0             0    39.36    0            1          \n",
       "18   1     0             1    81.24    1            1          \n",
       "19   0     0             0     7.68    1            1          \n",
       "20   0     0            NA     6.96    1            1          \n",
       "21   0    NA             0    15.24    1            1          \n",
       "22   0    NA            NA     8.28    0            1          \n",
       "23   0    NA            NA    15.60    0            1          \n",
       "24   0    NA             0    23.04    0            1          \n",
       "25   0    NA             0     5.76    0            1          \n",
       "26   0     0            NA    41.64    1            1          \n",
       "27   0     0            NA     3.36    0            1          \n",
       "28   0    NA            NA    57.24    1            1          \n",
       "29   0    NA             0     8.52    0            1          \n",
       "30   0     0             0     7.92    0            1          \n",
       "⋮   ⋮     ⋮             ⋮    ⋮        ⋮            ⋮           \n",
       "392 1      1            1     61.2    NA            0          \n",
       "393 1      1            1     52.8    NA            0          \n",
       "394 0      1            1     52.8    NA            0          \n",
       "395 0      0            1     27.6    NA            0          \n",
       "396 1      0            1     14.4    NA            0          \n",
       "397 1      1            1     76.8    NA            0          \n",
       "398 1      0            1     70.8    NA            0          \n",
       "399 1      1            1     81.6    NA            0          \n",
       "400 0      1            1     44.4    NA            0          \n",
       "401 0      1            1     43.2    NA            0          \n",
       "402 0      1            1      1.2    NA            0          \n",
       "403 0      1            1     48.0    NA            0          \n",
       "404 0      1            1     52.8    NA            0          \n",
       "405 1      0            1     55.2    NA            0          \n",
       "406 1      0            1    109.2    NA            0          \n",
       "407 1      1            1     69.6    NA            0          \n",
       "408 1      1            1     37.2    NA            0          \n",
       "409 1      1            1     88.8    NA            0          \n",
       "410 1      0            1     79.2    NA            0          \n",
       "411 1      0            1     52.8    NA            0          \n",
       "412 1      0            1     12.0    NA            0          \n",
       "413 1      1            1     90.0    NA            0          \n",
       "414 1      0            1     46.8    NA            0          \n",
       "415 1      0            0     97.2    NA            0          \n",
       "416 0      1            1     73.2    NA            0          \n",
       "417 1     NA            1     90.0    NA            0          \n",
       "418 1     NA            1     61.2    NA           NA          \n",
       "419 0     NA            1     38.4    NA           NA          \n",
       "420 1     NA            1     85.2    NA           NA          \n",
       "421 1     NA            1     74.4    NA           NA          "
      ]
     },
     "metadata": {},
     "output_type": "display_data"
    }
   ],
   "source": [
    "table"
   ]
  },
  {
   "cell_type": "code",
   "execution_count": 9,
   "metadata": {
    "collapsed": false
   },
   "outputs": [],
   "source": [
    "fit <- rpart(histological~ Revieweddiagnosis+ survival + IDH1,data=table, method=\"class\",control=ct,\n",
    "             parms = list(split = \"gini\"),);"
   ]
  },
  {
   "cell_type": "code",
   "execution_count": 10,
   "metadata": {
    "collapsed": false
   },
   "outputs": [
    {
     "data": {
      "text/plain": [
       "n=413 (8 observations deleted due to missingness)\n",
       "\n",
       "node), split, n, loss, yval, (yprob)\n",
       "      * denotes terminal node\n",
       "\n",
       "1) root 413 252 3 (0.01937046 0.20581114 0.38983051 0.38498789)  \n",
       "  2) Revieweddiagnosis=,A,OA,OD,PA 254  93 3 (0.03149606 0.33464567 0.63385827 0.00000000) *\n",
       "  3) Revieweddiagnosis=GBM 159   0 4 (0.00000000 0.00000000 0.00000000 1.00000000) *"
      ]
     },
     "metadata": {},
     "output_type": "display_data"
    }
   ],
   "source": [
    "fit"
   ]
  },
  {
   "cell_type": "code",
   "execution_count": 11,
   "metadata": {
    "collapsed": false
   },
   "outputs": [
    {
     "data": {
      "text/html": [
       "<table>\n",
       "<thead><tr><th></th><th scope=col>1</th><th scope=col>2</th><th scope=col>3</th><th scope=col>4</th></tr></thead>\n",
       "<tbody>\n",
       "\t<tr><th scope=row>12</th><td>0.03149606</td><td>0.3346457 </td><td>0.6338583 </td><td>0         </td></tr>\n",
       "</tbody>\n",
       "</table>\n"
      ],
      "text/latex": [
       "\\begin{tabular}{r|llll}\n",
       "  & 1 & 2 & 3 & 4\\\\\n",
       "\\hline\n",
       "\t12 & 0.03149606 & 0.3346457  & 0.6338583  & 0         \\\\\n",
       "\\end{tabular}\n"
      ],
      "text/markdown": [
       "\n",
       "| <!--/--> | 1 | 2 | 3 | 4 | \n",
       "|---|\n",
       "| 12 | 0.03149606 | 0.3346457  | 0.6338583  | 0          | \n",
       "\n",
       "\n"
      ],
      "text/plain": [
       "   1          2         3         4\n",
       "12 0.03149606 0.3346457 0.6338583 0"
      ]
     },
     "metadata": {},
     "output_type": "display_data"
    }
   ],
   "source": [
    "predict(fit,table[12,])"
   ]
  },
  {
   "cell_type": "code",
   "execution_count": 12,
   "metadata": {
    "collapsed": false
   },
   "outputs": [
    {
     "data": {
      "text/html": [
       "<table>\n",
       "<thead><tr><th></th><th scope=col>Sample_geo_accession</th><th scope=col>gender</th><th scope=col>Revieweddiagnosis</th><th scope=col>histological</th><th scope=col>diagno.Ag.at.sis</th><th scope=col>event</th><th scope=col>X1p.19q.codel</th><th scope=col>IDH1</th><th scope=col>survival</th><th scope=col>Chemotherapy</th><th scope=col>Radiotherapy</th></tr></thead>\n",
       "<tbody>\n",
       "\t<tr><th scope=row>12</th><td>GSM405211</td><td>1        </td><td>OD       </td><td>3        </td><td>35       </td><td>0        </td><td>1        </td><td>1        </td><td>21.96    </td><td>0        </td><td>1        </td></tr>\n",
       "</tbody>\n",
       "</table>\n"
      ],
      "text/latex": [
       "\\begin{tabular}{r|lllllllllll}\n",
       "  & Sample\\_geo\\_accession & gender & Revieweddiagnosis & histological & diagno.Ag.at.sis & event & X1p.19q.codel & IDH1 & survival & Chemotherapy & Radiotherapy\\\\\n",
       "\\hline\n",
       "\t12 & GSM405211 & 1         & OD        & 3         & 35        & 0         & 1         & 1         & 21.96     & 0         & 1        \\\\\n",
       "\\end{tabular}\n"
      ],
      "text/markdown": [
       "\n",
       "| <!--/--> | Sample_geo_accession | gender | Revieweddiagnosis | histological | diagno.Ag.at.sis | event | X1p.19q.codel | IDH1 | survival | Chemotherapy | Radiotherapy | \n",
       "|---|\n",
       "| 12 | GSM405211 | 1         | OD        | 3         | 35        | 0         | 1         | 1         | 21.96     | 0         | 1         | \n",
       "\n",
       "\n"
      ],
      "text/plain": [
       "   Sample_geo_accession gender Revieweddiagnosis histological diagno.Ag.at.sis\n",
       "12 GSM405211            1      OD                3            35              \n",
       "   event X1p.19q.codel IDH1 survival Chemotherapy Radiotherapy\n",
       "12 0     1             1    21.96    0            1           "
      ]
     },
     "metadata": {},
     "output_type": "display_data"
    }
   ],
   "source": [
    "table[12,]"
   ]
  },
  {
   "cell_type": "code",
   "execution_count": 24,
   "metadata": {
    "collapsed": false
   },
   "outputs": [
    {
     "data": {
      "image/png": "[encoded data removed]",
      "text/plain": [
       "Plot with title “Kyphosis决策树”"
      ]
     },
     "metadata": {},
     "output_type": "display_data"
    }
   ],
   "source": [
    "rpart.plot(fit, branch=1, branch.type=3, type=1,extra=102,\n",
    "shadow.col=\"grey\", box.col=\"lightgreen\",\n",
    "border.col=\"blue\", split.col=\"red\",\n",
    "split.cex=1.2, main=\"Kyphosis决策树\",family='Helvetica',font=6);"
   ]
  },
  {
   "cell_type": "code",
   "execution_count": null,
   "metadata": {
    "collapsed": true
   },
   "outputs": [],
   "source": []
  }
 ],
 "metadata": {
  "anaconda-cloud": {},
  "kernelspec": {
   "display_name": "R 3.3",
   "language": "R",
   "name": "ir33"
  },
  "language_info": {
   "codemirror_mode": "r",
   "file_extension": ".r",
   "mimetype": "text/x-r-source",
   "name": "R",
   "pygments_lexer": "r",
   "version": "3.3.1"
  }
 },
 "nbformat": 4,
 "nbformat_minor": 1
}
